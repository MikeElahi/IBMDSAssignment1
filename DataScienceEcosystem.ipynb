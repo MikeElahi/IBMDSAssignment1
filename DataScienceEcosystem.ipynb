{
 "cells": [
  {
   "cell_type": "markdown",
   "id": "71e3dada-80ca-4931-b8bd-126dfafc3fd0",
   "metadata": {
    "tags": []
   },
   "source": [
    "# Data Science Tools and Ecosystem"
   ]
  },
  {
   "cell_type": "markdown",
   "id": "622887a5-e4f2-48b3-be11-a5d82ce48a78",
   "metadata": {},
   "source": [
    "In this notebook, Data Science Tools and Ecosystem are summarized."
   ]
  },
  {
   "cell_type": "markdown",
   "id": "64859d69-d7f4-4719-ad50-1a231230cbd0",
   "metadata": {},
   "source": [
    "**Objectives:**\n",
    "* List popular languages for Data Scientists\n",
    "* List popular data libraries used by Data Scientists\n",
    "* Provide a list of popular data science tools\n",
    "* Provide example python arithmetic expressions"
   ]
  },
  {
   "cell_type": "markdown",
   "id": "9c5540f8-c6e1-49e0-bfee-557cb0fce35e",
   "metadata": {},
   "source": [
    "Some of the popular languages that Data Scientists use are:\n",
    "1. Python\n",
    "2. R\n",
    "3. Julia"
   ]
  },
  {
   "cell_type": "markdown",
   "id": "5d9384fa-d9fd-4a94-97cb-8da31a175722",
   "metadata": {},
   "source": [
    "Some of the commonly used libraries used by Data Scientists include:\n",
    "1. NumPy\n",
    "2. MatPlotLib\n",
    "3. SciKitLearn"
   ]
  },
  {
   "cell_type": "markdown",
   "id": "1ed80b5f-2e05-4fb1-b73c-35a58b523af5",
   "metadata": {},
   "source": [
    "| Data Science Tools |\n",
    "|--------------------|\n",
    "| VSCode             |\n",
    "| R Studio           |\n",
    "| Jupyter            |"
   ]
  },
  {
   "cell_type": "markdown",
   "id": "4ce2b9de-5212-4ffd-8e94-21f206109bbb",
   "metadata": {},
   "source": [
    "### Below are a few examples of evaluating arithmetic expressions in Python"
   ]
  },
  {
   "cell_type": "code",
   "execution_count": 3,
   "id": "aebbc324-76b3-43aa-b558-90b64caa267a",
   "metadata": {
    "tags": []
   },
   "outputs": [
    {
     "data": {
      "text/plain": [
       "17"
      ]
     },
     "execution_count": 3,
     "metadata": {},
     "output_type": "execute_result"
    }
   ],
   "source": [
    "# This is a simple arithmetic expression to mutiply then add integers\n",
    "(3*4)+5"
   ]
  },
  {
   "cell_type": "code",
   "execution_count": 5,
   "id": "9644a0ef-714c-4b97-b189-93f08568bad1",
   "metadata": {
    "tags": []
   },
   "outputs": [
    {
     "data": {
      "text/plain": [
       "3.3333333333333335"
      ]
     },
     "execution_count": 5,
     "metadata": {},
     "output_type": "execute_result"
    }
   ],
   "source": [
    "#  This will convert 200 minutes to hours by diving by 60\n",
    "minutes = 200\n",
    "minutes / 60"
   ]
  },
  {
   "cell_type": "markdown",
   "id": "74a0abb8-c239-488e-b9a0-72da0d960ace",
   "metadata": {
    "tags": []
   },
   "source": [
    "## Author\n",
    "Mohammadhossein Maazallahi"
   ]
  }
 ],
 "metadata": {
  "kernelspec": {
   "display_name": "Python",
   "language": "python",
   "name": "conda-env-python-py"
  },
  "language_info": {
   "codemirror_mode": {
    "name": "ipython",
    "version": 3
   },
   "file_extension": ".py",
   "mimetype": "text/x-python",
   "name": "python",
   "nbconvert_exporter": "python",
   "pygments_lexer": "ipython3",
   "version": "3.7.12"
  }
 },
 "nbformat": 4,
 "nbformat_minor": 5
}
